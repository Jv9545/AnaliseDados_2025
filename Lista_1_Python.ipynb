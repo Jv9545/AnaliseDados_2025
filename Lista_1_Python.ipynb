{
  "nbformat": 4,
  "nbformat_minor": 0,
  "metadata": {
    "colab": {
      "provenance": [],
      "authorship_tag": "ABX9TyNUIkkBbdlleN3w9SdvVqSK",
      "include_colab_link": true
    },
    "kernelspec": {
      "name": "python3",
      "display_name": "Python 3"
    },
    "language_info": {
      "name": "python"
    }
  },
  "cells": [
    {
      "cell_type": "markdown",
      "metadata": {
        "id": "view-in-github",
        "colab_type": "text"
      },
      "source": [
        "<a href=\"https://colab.research.google.com/github/Jv9545/AnaliseDados_2025/blob/main/Lista_1_Python.ipynb\" target=\"_parent\"><img src=\"https://colab.research.google.com/assets/colab-badge.svg\" alt=\"Open In Colab\"/></a>"
      ]
    },
    {
      "cell_type": "code",
      "execution_count": 11,
      "metadata": {
        "id": "5I4rs-L6A4CK",
        "colab": {
          "base_uri": "https://localhost:8080/"
        },
        "outputId": "51cd8b0a-1c94-4c65-dada-89d0d507663b"
      },
      "outputs": [
        {
          "output_type": "stream",
          "name": "stdout",
          "text": [
            "Pares: [2, 4, 6, 8, 10]\n",
            "Soma dos pares: 30\n",
            "Impares: [1, 3, 5, 7, 9]\n",
            "Soma dos impares: 25\n",
            "Dicionario completo:  {'pares': [2, 4, 6, 8, 10], 'impares': [1, 3, 5, 7, 9]}\n"
          ]
        }
      ],
      "source": [
        "class Categoria:\n",
        "  def categirizar(lista):\n",
        "    contador = 0;\n",
        "    listaPar = []\n",
        "    listaImpar = []\n",
        "\n",
        "    while contador < len(lista):\n",
        "      if lista[contador] % 2 == 0:\n",
        "        listaPar.append(lista[contador])\n",
        "      else:\n",
        "        listaImpar.append(lista[contador])\n",
        "      contador += 1\n",
        "\n",
        "    dicionario = {\"pares\": listaPar, \"impares\": listaImpar}\n",
        "    print(\"Pares:\", dicionario[\"pares\"])\n",
        "    print(\"Soma dos pares:\", sum(dicionario[\"pares\"]))\n",
        "\n",
        "    print(\"Impares:\", dicionario[\"impares\"])\n",
        "    print(\"Soma dos impares:\", sum(dicionario[\"impares\"]))\n",
        "\n",
        "    print(\"Dicionario completo: \", dicionario)\n",
        "\n",
        "Categoria.categirizar([1,2,3,4,5,6,7,8,9,10])\n"
      ]
    }
  ]
}